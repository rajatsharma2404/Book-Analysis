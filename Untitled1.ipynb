{
 "cells": [
  {
   "cell_type": "markdown",
   "id": "683dba60-d1d8-430a-a4ca-66c0e6e756e4",
   "metadata": {},
   "source": [
    "# Load the book\n"
   ]
  },
  {
   "cell_type": "code",
   "execution_count": 2,
   "id": "6af9cebe-398f-419f-9f7c-a146138beafd",
   "metadata": {},
   "outputs": [],
   "source": [
    "with open(\"miracle_in_the_andes.txt\", \"r\", encoding = 'utf-8') as file:\n",
    "    book = file.read()"
   ]
  },
  {
   "cell_type": "markdown",
   "id": "df246e03-8cf7-418e-a92c-b877f6f139df",
   "metadata": {},
   "source": [
    "# Extract paragraphs where \"love\" is used"
   ]
  },
  {
   "cell_type": "code",
   "execution_count": 4,
   "id": "b16eff05-2d2b-4ea7-af52-bf2fea320db7",
   "metadata": {},
   "outputs": [],
   "source": [
    "import re"
   ]
  },
  {
   "cell_type": "code",
   "execution_count": 11,
   "id": "6919d020-dddb-4a61-8701-c3450bf46403",
   "metadata": {},
   "outputs": [
    {
     "data": {
      "text/plain": [
       "60"
      ]
     },
     "execution_count": 11,
     "metadata": {},
     "output_type": "execute_result"
    }
   ],
   "source": [
    "pattern = re.compile(\"[^\\n]+love[^\\n]+\")\n",
    "findings = re.findall(pattern, book)\n",
    "len(findings)"
   ]
  },
  {
   "cell_type": "markdown",
   "id": "bf4c7795-b713-4946-8a16-5797bcd7b0ed",
   "metadata": {},
   "source": [
    "# Extract chapter titles"
   ]
  },
  {
   "cell_type": "code",
   "execution_count": 21,
   "id": "b4589327-46d9-4300-8d94-97ae9d170e55",
   "metadata": {},
   "outputs": [
    {
     "data": {
      "text/plain": [
       "['Before',\n",
       " 'Everything Precious',\n",
       " 'A Promise',\n",
       " 'Breathe Once More',\n",
       " 'Abandoned',\n",
       " 'Tomb',\n",
       " 'East',\n",
       " 'The Opposite of Death',\n",
       " 'I See a Man',\n",
       " 'After']"
      ]
     },
     "execution_count": 21,
     "metadata": {},
     "output_type": "execute_result"
    }
   ],
   "source": [
    "pattern = re.compile(\"([a-zA-Z ]+)\\n\\n\")\n",
    "findings = re.findall(pattern, book)\n",
    "findings"
   ]
  },
  {
   "cell_type": "markdown",
   "id": "5c3bbff3-481e-437b-ba3a-24ea17a82ca9",
   "metadata": {},
   "source": [
    "# Function that returns existence of word"
   ]
  },
  {
   "cell_type": "code",
   "execution_count": 25,
   "id": "23a633a8-c133-4724-a6db-281411d9b8e5",
   "metadata": {},
   "outputs": [],
   "source": [
    "def func(w):\n",
    "    pattern = re.compile(\"[a-zA-Z]+\")\n",
    "    findings = re.findall(pattern, book.lower())\n",
    "    dict = {}\n",
    "    try:\n",
    "        for word in findings:\n",
    "            if word in dict.key():\n",
    "                dict[word] = dict[word]+1\n",
    "            else:\n",
    "                dict[word] = 1\n",
    "        return dict[w]\n",
    "    except:\n",
    "        print(\"Word doesn't exist\")\n",
    "    \n"
   ]
  },
  {
   "cell_type": "code",
   "execution_count": null,
   "id": "640d290f-2c35-445f-ba06-c705acbd6b8d",
   "metadata": {},
   "outputs": [],
   "source": [
    "print(fu)"
   ]
  }
 ],
 "metadata": {
  "kernelspec": {
   "display_name": "Python 3 (ipykernel)",
   "language": "python",
   "name": "python3"
  },
  "language_info": {
   "codemirror_mode": {
    "name": "ipython",
    "version": 3
   },
   "file_extension": ".py",
   "mimetype": "text/x-python",
   "name": "python",
   "nbconvert_exporter": "python",
   "pygments_lexer": "ipython3",
   "version": "3.10.0"
  }
 },
 "nbformat": 4,
 "nbformat_minor": 5
}
